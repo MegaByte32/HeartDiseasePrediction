{
 "cells": [
  {
   "cell_type": "markdown",
   "metadata": {},
   "source": [
    "# KMeans-Cluster Census DataSet"
   ]
  },
  {
   "cell_type": "markdown",
   "metadata": {},
   "source": [
    "### Investigation: I am going to investigate the link between age and the amount of hours people work per week. Then I will investigate the differences in the results based on what sex each person is."
   ]
  },
  {
   "cell_type": "markdown",
   "metadata": {},
   "source": [
    "#### Importing Libraries"
   ]
  },
  {
   "cell_type": "code",
   "execution_count": null,
   "metadata": {},
   "outputs": [],
   "source": [
    "# Import relevant libraries\n",
    "import pandas as pd\n",
    "import numpy as np\n",
    "import os\n",
    "import matplotlib.pyplot as plt \n",
    "%matplotlib inline\n",
    "from sklearn.cluster import KMeans"
   ]
  },
  {
   "cell_type": "markdown",
   "metadata": {},
   "source": [
    "#### Creating Functions"
   ]
  },
  {
   "cell_type": "code",
   "execution_count": null,
   "metadata": {},
   "outputs": [],
   "source": [
    "def OpenFiles(worksheet_name):\n",
    "    df = pd.read_excel(pwd + '\\Data\\data_output.xlsx', sheet_name= worksheet_name) #reading the workbook but only importing the particular worsheets I need.\n",
    "    return df\n",
    "\n",
    "def DelUnCol(df):\n",
    "    df = df.drop(columns = ['Unnamed: 0', 'sex'])\n",
    "    return df\n",
    "\n",
    "def ElbowMethod(dis, K):\n",
    "    plt.figure(figsize=(16,8))\n",
    "    plt.plot(K, dis, 'bx-')\n",
    "    plt.xlabel('k')\n",
    "    plt.ylabel('Distortion')\n",
    "    plt.title('The Elbow Method Showing The Optimal K Value')\n",
    "    plt.show()\n",
    "    \n",
    "def KModel(df, K):\n",
    "    KMeansMod = KMeans(n_clusters=K)\n",
    "    KMeansMod.fit(df)\n",
    "    \n",
    "def KMeans_Scatter(df, n):\n",
    "    # create new plot and data\n",
    "    x = pd.array(df['age'])\n",
    "    y = pd.array(df['hours-per-week'])\n",
    "    X = np.array(list(zip(x, y)))\n",
    "\n",
    "    colors = ['b', 'g', 'r', 'c', 'm', 'k', 'purple', 'pink', 'orange']\n",
    "    markers = ['o', 'v', 'D', 's', 'x', '*', 'p', 'd', '+']\n",
    "\n",
    "    plt.figure(figsize=(20, 15), dpi=100)\n",
    "    plt.ylabel('hours-per-week')\n",
    "    plt.xlabel('age')\n",
    "    \n",
    "    kmeans = KMeans(n_clusters=n).fit(X)\n",
    "\n",
    "    plt.scatter(kmeans.cluster_centers_[:, 0], kmeans.cluster_centers_[:, 1], s = 250, c = 'yellow', label = 'Clusters')\n",
    "\n",
    "    for i, l in enumerate(kmeans.labels_):\n",
    "        plt.plot(x[i], y[i], color=colors[l], marker=markers[l])\n",
    "    plt.show()\n",
    "    kmeans.labels_"
   ]
  },
  {
   "cell_type": "markdown",
   "metadata": {},
   "source": [
    "### Reading Files and Declaring needed Variables."
   ]
  },
  {
   "cell_type": "code",
   "execution_count": null,
   "metadata": {},
   "outputs": [],
   "source": [
    "pwd = os.getcwd() #capturing the present working directory\n",
    "\n",
    "#Opening the worksheets\n",
    "data = OpenFiles('Final_Result')\n",
    "male = OpenFiles('Final_MaleData')\n",
    "female = OpenFiles('Final_FemaleData')\n",
    "\n",
    "data.head(), male.head(), female.head()"
   ]
  },
  {
   "cell_type": "code",
   "execution_count": null,
   "metadata": {},
   "outputs": [],
   "source": [
    "\"\"\"The xlsx writer library seems to automatically put an autoincrement column in which in this case\n",
    "is not neccessary so I can remove it here. Also, for the purposes of what I am investigating, I do not actually need the 'sex' column.\n",
    "For recognising what sex each data set is representing I have named them appropriatly. So I can use the DelUnCol method to delete these uneeded columns.\"\"\"\n",
    "\n",
    "data = DelUnCol(data)\n",
    "male = DelUnCol(male)\n",
    "female = DelUnCol(female)\n",
    "\n",
    "data.head(), male.head(), female.head()"
   ]
  },
  {
   "cell_type": "markdown",
   "metadata": {},
   "source": [
    "Final_Result Worksheet DataSet which includes the data for both sex's combined."
   ]
  },
  {
   "cell_type": "code",
   "execution_count": null,
   "metadata": {},
   "outputs": [],
   "source": [
    "dis = []\n",
    "K = range(1,10)\n",
    "for k in K:\n",
    "    km_model = KMeans(n_clusters = k)\n",
    "    km_model.fit(data)\n",
    "    dis.append(km_model.inertia_)\n",
    "    \n",
    "dis"
   ]
  },
  {
   "cell_type": "code",
   "execution_count": null,
   "metadata": {},
   "outputs": [],
   "source": [
    "ElbowMethod(dis, K)"
   ]
  },
  {
   "cell_type": "markdown",
   "metadata": {},
   "source": [
    "The optimal number of clusters is 2, as the elbow method above demonstrates. The 'elbow' point on the graph is at 2. Meaning n_clusters = 2."
   ]
  },
  {
   "cell_type": "code",
   "execution_count": null,
   "metadata": {},
   "outputs": [],
   "source": [
    "n = 2\n",
    "KModel(data, n)\n",
    "KMeans_Scatter(data, n)"
   ]
  },
  {
   "cell_type": "markdown",
   "metadata": {},
   "source": [
    "### Seperating the Male and Female Datasets"
   ]
  },
  {
   "cell_type": "markdown",
   "metadata": {},
   "source": [
    "#### Male Data"
   ]
  },
  {
   "cell_type": "code",
   "execution_count": null,
   "metadata": {},
   "outputs": [],
   "source": [
    "dis = []\n",
    "K = range(1,10)\n",
    "for k in K:\n",
    "    km_model = KMeans(n_clusters = k)\n",
    "    km_model.fit(male)\n",
    "    dis.append(km_model.inertia_)\n",
    "    \n",
    "dis"
   ]
  },
  {
   "cell_type": "code",
   "execution_count": null,
   "metadata": {},
   "outputs": [],
   "source": [
    "ElbowMethod(dis, K)"
   ]
  },
  {
   "cell_type": "markdown",
   "metadata": {},
   "source": [
    "The optimal number of clusters is 2, as the elbow method above demonstrates. The 'elbow' point on the graph is at 2. Meaning n_clusters = 2/ n = 2."
   ]
  },
  {
   "cell_type": "code",
   "execution_count": null,
   "metadata": {},
   "outputs": [],
   "source": [
    "n = 2\n",
    "KModel(male, n)\n",
    "KMeans_Scatter(male, n)"
   ]
  },
  {
   "cell_type": "markdown",
   "metadata": {},
   "source": [
    "#### Female Data"
   ]
  },
  {
   "cell_type": "code",
   "execution_count": null,
   "metadata": {},
   "outputs": [],
   "source": [
    "dis = []\n",
    "K = range(1,10)\n",
    "for k in K:\n",
    "    km_model = KMeans(n_clusters = k)\n",
    "    km_model.fit(female)\n",
    "    dis.append(km_model.inertia_)\n",
    "    \n",
    "dis"
   ]
  },
  {
   "cell_type": "code",
   "execution_count": null,
   "metadata": {},
   "outputs": [],
   "source": [
    "ElbowMethod(dis, K)"
   ]
  },
  {
   "cell_type": "markdown",
   "metadata": {},
   "source": [
    "The optimal number of clusters is 2, as the elbow method above demonstrates. The 'elbow' point on the graph is at 2. Meaning n_clusters = 2/ n = 2."
   ]
  },
  {
   "cell_type": "code",
   "execution_count": null,
   "metadata": {},
   "outputs": [],
   "source": [
    "n = 2\n",
    "KModel(female, n)\n",
    "KMeans_Scatter(female, n)"
   ]
  }
 ],
 "metadata": {
  "interpreter": {
   "hash": "e76260216ae82f38507f69c23a0239dfc84e70b63a45d200cd6962be5d0e2dad"
  },
  "kernelspec": {
   "display_name": "Python 3.10.4 64-bit",
   "language": "python",
   "name": "python3"
  },
  "language_info": {
   "codemirror_mode": {
    "name": "ipython",
    "version": 3
   },
   "file_extension": ".py",
   "mimetype": "text/x-python",
   "name": "python",
   "nbconvert_exporter": "python",
   "pygments_lexer": "ipython3",
   "version": "3.10.4"
  },
  "orig_nbformat": 4
 },
 "nbformat": 4,
 "nbformat_minor": 2
}
